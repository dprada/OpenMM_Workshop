{
 "cells": [
  {
   "cell_type": "markdown",
   "metadata": {},
   "source": [
    "# Doble pozo"
   ]
  },
  {
   "cell_type": "code",
   "execution_count": 1,
   "metadata": {},
   "outputs": [],
   "source": [
    "import numpy as np\n",
    "import h5py as h5py\n",
    "import sympy as sy\n",
    "import matplotlib.pyplot as plt\n",
    "import simtk.openmm as mm\n",
    "import simtk.unit as unit\n",
    "import simtk.openmm.app as app\n",
    "from tqdm import tqdm"
   ]
  },
  {
   "cell_type": "code",
   "execution_count": 2,
   "metadata": {},
   "outputs": [],
   "source": [
    "plt.style.use('ggplot')"
   ]
  },
  {
   "cell_type": "markdown",
   "metadata": {},
   "source": [
    "### Definición del sistema"
   ]
  },
  {
   "cell_type": "code",
   "execution_count": 3,
   "metadata": {},
   "outputs": [
    {
     "data": {
      "text/plain": [
       "0"
      ]
     },
     "execution_count": 3,
     "metadata": {},
     "output_type": "execute_result"
    }
   ],
   "source": [
    "system = mm.System()\n",
    "mass   = 35.453 * unit.amu # masa del átomo Cl\n",
    "system.addParticle(mass)"
   ]
  },
  {
   "cell_type": "markdown",
   "metadata": {},
   "source": [
    "### Paisaje de energía potencial"
   ]
  },
  {
   "cell_type": "markdown",
   "metadata": {},
   "source": [
    "### Doble pozo, simétrico o asimétrico"
   ]
  },
  {
   "cell_type": "markdown",
   "metadata": {},
   "source": [
    "#### Pozo harmónico en Y y Z"
   ]
  },
  {
   "cell_type": "code",
   "execution_count": 4,
   "metadata": {},
   "outputs": [
    {
     "data": {
      "image/png": "[encoded data removed]",
      "text/plain": [
       "<Figure size 432x288 with 1 Axes>"
      ]
     },
     "metadata": {},
     "output_type": "display_data"
    }
   ],
   "source": [
    "def harmonic_well(x, K):\n",
    "    return 0.5*K*x**2\n",
    "\n",
    "K=100.0\n",
    "\n",
    "x_serie = np.arange(-5., 5., 0.04)\n",
    "plt.rcParams['figure.figsize'] = 6,4\n",
    "plt.plot(x_serie, harmonic_well(x_serie,K), 'r-')\n",
    "plt.ylim(-1,7)\n",
    "plt.xlim(-1,1)\n",
    "plt.xlabel(\"Y or Z\")\n",
    "plt.show()"
   ]
  },
  {
   "cell_type": "markdown",
   "metadata": {},
   "source": [
    "#### Cálculo del periodo de oscilación natural para tener referencia temporal para la elección del paso de integración"
   ]
  },
  {
   "cell_type": "code",
   "execution_count": 5,
   "metadata": {},
   "outputs": [
    {
     "name": "stdout",
     "output_type": "stream",
     "text": [
      "Calculamos las raices:\n",
      "\n",
      "Función: 50.0*x**2\n",
      "Primera derivada: 100.0*x\n",
      "Segunda derivada: 100.000000000000\n",
      "Minimo en coordenada 0 con k efectiva 100.000000000000 y un periodo T de oscilación 0.18289866089177864 ps\n"
     ]
    }
   ],
   "source": [
    "x=sy.symbols('x')\n",
    "f=0.5*K*x**2\n",
    "g=sy.diff(f,x)\n",
    "gg=sy.diff(f,x,x)\n",
    "roots_diff=sy.roots(g,x)\n",
    "\n",
    "print('Calculamos las raices:')\n",
    "print('')\n",
    "print('Función:',f)\n",
    "print('Primera derivada:',g)\n",
    "print('Segunda derivada:',gg)\n",
    "\n",
    "roots_yz=[]\n",
    "for root in roots_diff.keys():\n",
    "    effective_k = gg.subs(x,root)\n",
    "    if effective_k>0:\n",
    "        roots_yz.append(root)\n",
    "        T=2*np.pi*np.sqrt(mass/(effective_k * unit.kilocalories_per_mole/unit.angstrom**2))\n",
    "        print('Minimo en coordenada',root,'con k efectiva',effective_k,'y un periodo T de oscilación',T)\n",
    "    "
   ]
  },
  {
   "cell_type": "markdown",
   "metadata": {},
   "source": [
    "#### Doble pozo en X"
   ]
  },
  {
   "cell_type": "code",
   "execution_count": 6,
   "metadata": {},
   "outputs": [
    {
     "data": {
      "text/plain": [
       "<function matplotlib.pyplot.show(*args, **kw)>"
      ]
     },
     "execution_count": 6,
     "metadata": {},
     "output_type": "execute_result"
    },
    {
     "data": {
      "image/png": "[encoded data removed]",
      "text/plain": [
       "<Figure size 432x288 with 1 Axes>"
      ]
     },
     "metadata": {},
     "output_type": "display_data"
    }
   ],
   "source": [
    "# 'Eo(C*x**4-x**2)+M*x'\n",
    "\n",
    "def double_well(x,Eo,C,M):\n",
    "    return Eo*(C*x**4-x**2)+M*x\n",
    "\n",
    "Eo=6.0\n",
    "C=0.4\n",
    "M=-0.25 # factor de asimetricidad\n",
    "\n",
    "x_serie = np.arange(-5., 5., 0.05)\n",
    "    \n",
    "plt.rcParams['figure.figsize']=6,4\n",
    "plt.plot(x_serie, double_well(x_serie,Eo,C,M), 'r-')\n",
    "plt.ylim(-5,3)\n",
    "plt.xlim(-2.5,2.5)\n",
    "plt.xlabel(\"X\")\n",
    "plt.show\n"
   ]
  },
  {
   "cell_type": "markdown",
   "metadata": {},
   "source": [
    "#### Cálculo del periodo de oscilación natural en los mínimos, en su aproximación de pequeñas oscilaciones harmónicas, para tener referencia temporal para la elección del paso de integración."
   ]
  },
  {
   "cell_type": "code",
   "execution_count": 7,
   "metadata": {},
   "outputs": [
    {
     "name": "stdout",
     "output_type": "stream",
     "text": [
      "Calculamos las raices:\n",
      "\n",
      "Función: 2.4*x**4 - 6.0*x**2 - 0.25*x\n",
      "Primera derivada: 9.6*x**3 - 12.0*x - 0.25\n",
      "Segunda derivada: 28.8*x**2 - 12.0\n",
      "Minimo en coordenada -1.10746801335942 con k effectiva 23.3227795376907  y un periodo T de oscilación 0.3787218588759126 ps\n",
      "Minimo en coordenada 1.12830858803474 con k effectiva 24.6647117711887  y un periodo T de oscilación 0.3682752249030117 ps\n"
     ]
    }
   ],
   "source": [
    "x = sy.symbols('x')\n",
    "f = Eo*(C*x**4-x**2)+M*x\n",
    "\n",
    "g = sy.diff(f,x)\n",
    "gg = sy.diff(f,x,x)\n",
    "roots_diff = sy.roots(g,x)\n",
    "\n",
    "print('Calculamos las raices:')\n",
    "print('')\n",
    "print('Función:',f)\n",
    "print('Primera derivada:',g)\n",
    "print('Segunda derivada:',gg)\n",
    "\n",
    "roots_x=[]\n",
    "for root in roots_diff.keys():\n",
    "    effective_k=gg.subs(x,root)\n",
    "    if effective_k>0:\n",
    "        roots_x.append(root)\n",
    "        T = 2*np.pi*np.sqrt(mass/(effective_k * unit.kilocalories_per_mole/unit.angstrom**2))\n",
    "        print('Minimo en coordenada',root,'con k effectiva',effective_k,' y un periodo T de oscilación',T)"
   ]
  },
  {
   "cell_type": "markdown",
   "metadata": {},
   "source": [
    "#### Añadir potencial al sistema"
   ]
  },
  {
   "cell_type": "code",
   "execution_count": 8,
   "metadata": {},
   "outputs": [
    {
     "data": {
      "text/plain": [
       "0"
      ]
     },
     "execution_count": 8,
     "metadata": {},
     "output_type": "execute_result"
    }
   ],
   "source": [
    "force = mm.CustomExternalForce('Eo*(C*x^4-x^2)+M*x + (K/2.0)*(y^2+z^2)')\n",
    "force.addGlobalParameter('K', K * unit.kilocalories_per_mole/unit.angstrom**2)\n",
    "force.addGlobalParameter('Eo', Eo * unit.kilocalories_per_mole/unit.angstrom**2)\n",
    "force.addGlobalParameter('C', C * 1/unit.angstrom**2)\n",
    "force.addGlobalParameter('M', M * unit.kilocalories_per_mole/unit.angstrom)\n",
    "force.addParticle(0, [])\n",
    "system.addForce(force)"
   ]
  },
  {
   "cell_type": "markdown",
   "metadata": {},
   "source": [
    "### Estado termodinámico"
   ]
  },
  {
   "cell_type": "code",
   "execution_count": 9,
   "metadata": {},
   "outputs": [],
   "source": [
    "# Formalismo NVT\n",
    "\n",
    "kB = unit.BOLTZMANN_CONSTANT_kB * unit.AVOGADRO_CONSTANT_NA\n",
    "temperature = 500 * unit.kelvin\n",
    "pressure = None"
   ]
  },
  {
   "cell_type": "markdown",
   "metadata": {},
   "source": [
    "### Parámetros de la simulación"
   ]
  },
  {
   "cell_type": "code",
   "execution_count": 10,
   "metadata": {},
   "outputs": [],
   "source": [
    "step_size = 0.01 * unit.picoseconds\n",
    "num_steps = 4000000\n",
    "saving_period = 100\n",
    "num_steps_saved = int(num_steps/saving_period)"
   ]
  },
  {
   "cell_type": "markdown",
   "metadata": {},
   "source": [
    "### Integrador"
   ]
  },
  {
   "cell_type": "code",
   "execution_count": 11,
   "metadata": {},
   "outputs": [],
   "source": [
    "friction = 1.0/unit.picosecond\n",
    "integrator = mm.LangevinIntegrator(temperature, friction, step_size)"
   ]
  },
  {
   "cell_type": "markdown",
   "metadata": {},
   "source": [
    "### Plataforma de simulación"
   ]
  },
  {
   "cell_type": "code",
   "execution_count": 12,
   "metadata": {},
   "outputs": [],
   "source": [
    "platform_name = 'CUDA' \n",
    "\n",
    "#platform: A platform (CPU, OpenCL, CUDA or reference); default is platform=OpenCl\n",
    "\n",
    "#for ii in range(mm.Platform.getNumPlatforms()):\n",
    "#   print(mm.Platform.getPlatform(ii).getName())\n",
    "\n",
    "platform = mm.Platform.getPlatformByName(platform_name)"
   ]
  },
  {
   "cell_type": "markdown",
   "metadata": {},
   "source": [
    "### Reporteros y arrays de salida"
   ]
  },
  {
   "cell_type": "code",
   "execution_count": 13,
   "metadata": {},
   "outputs": [],
   "source": [
    "times = unit.Quantity(np.zeros([num_steps_saved], np.float32), unit.picoseconds)\n",
    "positions = unit.Quantity(np.zeros([num_steps_saved,3], np.float32), unit.angstroms)\n",
    "velocities = unit.Quantity(np.zeros([num_steps_saved,3], np.float32), unit.angstroms/unit.picosecond)\n",
    "potential_energies = unit.Quantity(np.zeros([num_steps_saved], np.float32), unit.kilocalories_per_mole)\n",
    "kinetic_energies   = unit.Quantity(np.zeros([num_steps_saved], np.float32), unit.kilocalories_per_mole)"
   ]
  },
  {
   "cell_type": "markdown",
   "metadata": {},
   "source": [
    "### Condiciones iniciales"
   ]
  },
  {
   "cell_type": "code",
   "execution_count": 14,
   "metadata": {},
   "outputs": [
    {
     "ename": "Exception",
     "evalue": "Error launching CUDA compiler: 256\nIn file included from /usr/local/cuda/bin/..//include/cuda_runtime.h:78:0,\n                 from <command-line>:0:\n/usr/local/cuda/bin/..//include/host_config.h:119:2: error: #error -- unsupported GNU version! gcc versions later than 5 are not supported!\n #error -- unsupported GNU version! gcc versions later than 5 are not supported!\n  ^~~~~\n",
     "output_type": "error",
     "traceback": [
      "\u001b[0;31m---------------------------------------------------------------------------\u001b[0m",
      "\u001b[0;31mException\u001b[0m                                 Traceback (most recent call last)",
      "\u001b[0;32m<ipython-input-14-f02801af0959>\u001b[0m in \u001b[0;36m<module>\u001b[0;34m\u001b[0m\n\u001b[1;32m      3\u001b[0m \u001b[0;31m#initial_velocities = None # Las velocidades serán adjudicadas aleatoriamente según la distribución Maxwell-Boltzmann del estado termodinámico\u001b[0m\u001b[0;34m\u001b[0m\u001b[0;34m\u001b[0m\u001b[0;34m\u001b[0m\u001b[0m\n\u001b[1;32m      4\u001b[0m \u001b[0;34m\u001b[0m\u001b[0m\n\u001b[0;32m----> 5\u001b[0;31m \u001b[0mcontext\u001b[0m \u001b[0;34m=\u001b[0m \u001b[0mmm\u001b[0m\u001b[0;34m.\u001b[0m\u001b[0mContext\u001b[0m\u001b[0;34m(\u001b[0m\u001b[0msystem\u001b[0m\u001b[0;34m,\u001b[0m \u001b[0mintegrator\u001b[0m\u001b[0;34m,\u001b[0m \u001b[0mplatform\u001b[0m\u001b[0;34m)\u001b[0m\u001b[0;34m\u001b[0m\u001b[0;34m\u001b[0m\u001b[0m\n\u001b[0m\u001b[1;32m      6\u001b[0m \u001b[0mcontext\u001b[0m\u001b[0;34m.\u001b[0m\u001b[0msetPositions\u001b[0m\u001b[0;34m(\u001b[0m\u001b[0minitial_positions\u001b[0m\u001b[0;34m)\u001b[0m\u001b[0;34m\u001b[0m\u001b[0;34m\u001b[0m\u001b[0m\n\u001b[1;32m      7\u001b[0m \u001b[0mcontext\u001b[0m\u001b[0;34m.\u001b[0m\u001b[0msetVelocitiesToTemperature\u001b[0m\u001b[0;34m(\u001b[0m\u001b[0mtemperature\u001b[0m\u001b[0;34m)\u001b[0m\u001b[0;34m\u001b[0m\u001b[0;34m\u001b[0m\u001b[0m\n",
      "\u001b[0;32m~/Myopt/Miniconda/miniconda3/envs/UIBCDF_lab/lib/python3.7/site-packages/simtk/openmm/openmm.py\u001b[0m in \u001b[0;36m__init__\u001b[0;34m(self, *args)\u001b[0m\n\u001b[1;32m  12229\u001b[0m             \u001b[0ma\u001b[0m \u001b[0mset\u001b[0m \u001b[0mof\u001b[0m \u001b[0mvalues\u001b[0m \u001b[0;32mfor\u001b[0m \u001b[0mplatform\u001b[0m\u001b[0;34m-\u001b[0m\u001b[0mspecific\u001b[0m \u001b[0mproperties\u001b[0m\u001b[0;34m.\u001b[0m \u001b[0mKeys\u001b[0m \u001b[0mare\u001b[0m \u001b[0mthe\u001b[0m \u001b[0mproperty\u001b[0m \u001b[0mnames\u001b[0m\u001b[0;34m.\u001b[0m\u001b[0;34m\u001b[0m\u001b[0;34m\u001b[0m\u001b[0m\n\u001b[1;32m  12230\u001b[0m         \"\"\"\n\u001b[0;32m> 12231\u001b[0;31m         \u001b[0mthis\u001b[0m \u001b[0;34m=\u001b[0m \u001b[0m_openmm\u001b[0m\u001b[0;34m.\u001b[0m\u001b[0mnew_Context\u001b[0m\u001b[0;34m(\u001b[0m\u001b[0;34m*\u001b[0m\u001b[0margs\u001b[0m\u001b[0;34m)\u001b[0m\u001b[0;34m\u001b[0m\u001b[0;34m\u001b[0m\u001b[0m\n\u001b[0m\u001b[1;32m  12232\u001b[0m         \u001b[0;32mtry\u001b[0m\u001b[0;34m:\u001b[0m\u001b[0;34m\u001b[0m\u001b[0;34m\u001b[0m\u001b[0m\n\u001b[1;32m  12233\u001b[0m             \u001b[0mself\u001b[0m\u001b[0;34m.\u001b[0m\u001b[0mthis\u001b[0m\u001b[0;34m.\u001b[0m\u001b[0mappend\u001b[0m\u001b[0;34m(\u001b[0m\u001b[0mthis\u001b[0m\u001b[0;34m)\u001b[0m\u001b[0;34m\u001b[0m\u001b[0;34m\u001b[0m\u001b[0m\n",
      "\u001b[0;31mException\u001b[0m: Error launching CUDA compiler: 256\nIn file included from /usr/local/cuda/bin/..//include/cuda_runtime.h:78:0,\n                 from <command-line>:0:\n/usr/local/cuda/bin/..//include/host_config.h:119:2: error: #error -- unsupported GNU version! gcc versions later than 5 are not supported!\n #error -- unsupported GNU version! gcc versions later than 5 are not supported!\n  ^~~~~\n"
     ]
    }
   ],
   "source": [
    "initial_positions = [[roots_x[0], roots_yz[0], roots_yz[0]]] * unit.angstroms\n",
    "\n",
    "#initial_velocities = None # Las velocidades serán adjudicadas aleatoriamente según la distribución Maxwell-Boltzmann del estado termodinámico\n",
    "\n",
    "context = mm.Context(system, integrator, platform)\n",
    "context.setPositions(initial_positions)\n",
    "context.setVelocitiesToTemperature(temperature)"
   ]
  },
  {
   "cell_type": "code",
   "execution_count": null,
   "metadata": {},
   "outputs": [],
   "source": [
    "state = context.getState(getEnergy=True, getPositions=True, getVelocities=True)\n",
    "times[0] = state.getTime()\n",
    "positions[0] = state.getPositions()[0]\n",
    "velocities[0] = state.getVelocities()[0]\n",
    "kinetic_energies[0]=state.getKineticEnergy()\n",
    "potential_energies[0]=state.getPotentialEnergy()                    \n",
    "                         "
   ]
  },
  {
   "cell_type": "markdown",
   "metadata": {},
   "source": [
    "### Correr la simulación"
   ]
  },
  {
   "cell_type": "code",
   "execution_count": null,
   "metadata": {},
   "outputs": [],
   "source": [
    "for ii in tqdm(range(num_steps_saved)):\n",
    "    context.getIntegrator().step(saving_period)\n",
    "    state = context.getState(getEnergy=True, getPositions=True, getVelocities=True)\n",
    "    times[ii] = state.getTime()\n",
    "    positions[ii] = state.getPositions()[0]\n",
    "    velocities[ii] = state.getVelocities()[0]\n",
    "    kinetic_energies[ii] = state.getKineticEnergy()\n",
    "    potential_energies[ii] = state.getPotentialEnergy()"
   ]
  },
  {
   "cell_type": "markdown",
   "metadata": {},
   "source": [
    "### Análisis de resultados"
   ]
  },
  {
   "cell_type": "code",
   "execution_count": null,
   "metadata": {},
   "outputs": [],
   "source": [
    "plt.rcParams['figure.figsize'] = 18, 4\n",
    "for ii, ylabel in zip(range(3), ['X','Y','Z']):\n",
    "    plt.plot(times,positions[:,ii])\n",
    "    plt.ylabel(ylabel)\n",
    "    plt.xlabel('time')\n",
    "    plt.show()"
   ]
  },
  {
   "cell_type": "code",
   "execution_count": null,
   "metadata": {},
   "outputs": [],
   "source": [
    "hist, bin_edges = np.histogram(positions[:,0], bins = 100, density = True)\n",
    "plt.plot((bin_edges[1:]+bin_edges[:-1])/2.0,hist)\n",
    "plt.show()"
   ]
  },
  {
   "cell_type": "code",
   "execution_count": null,
   "metadata": {},
   "outputs": [],
   "source": [
    "plt.plot((bin_edges[1:]+bin_edges[:-1])/2.0, -np.log(hist))\n",
    "plt.show"
   ]
  },
  {
   "cell_type": "code",
   "execution_count": null,
   "metadata": {},
   "outputs": [],
   "source": [
    "num_frames = positions.shape[0]\n",
    "averages   = unit.Quantity(np.zeros(num_frames, np.float32), unit.angstroms)\n",
    "std_devs   = unit.Quantity(np.zeros(num_frames, np.float32), unit.angstroms)\n",
    "    \n",
    "for ii in np.arange(num_frames):\n",
    "    averages[ii] = np.mean(positions[:(ii+1),0])\n",
    "    std_devs[ii]  = np.std(positions[:(ii+1),0])\n",
    "\n",
    "plt.plot(times,averages)\n",
    "plt.show()\n",
    "\n",
    "plt.plot(times,std_devs)\n",
    "plt.show()"
   ]
  },
  {
   "cell_type": "code",
   "execution_count": null,
   "metadata": {},
   "outputs": [],
   "source": [
    "writing = False\n",
    "\n",
    "if writing:\n",
    "    h5f = h5py.File('data_double_well_md.h5', 'w')\n",
    "    h5f.create_dataset('times', data=times)\n",
    "    h5f.create_dataset('positions', data=positions)\n",
    "    h5f.create_dataset('velocities', data=velocities)\n",
    "    h5f.create_dataset('kinetic_energies', data=kinetic_energies)\n",
    "    h5f.create_dataset('potential_energies', data=potential_energies)\n",
    "    h5f.close()"
   ]
  },
  {
   "cell_type": "code",
   "execution_count": null,
   "metadata": {},
   "outputs": [],
   "source": []
  }
 ],
 "metadata": {
  "kernelspec": {
   "display_name": "Python 3",
   "language": "python",
   "name": "python3"
  },
  "language_info": {
   "codemirror_mode": {
    "name": "ipython",
    "version": 3
   },
   "file_extension": ".py",
   "mimetype": "text/x-python",
   "name": "python",
   "nbconvert_exporter": "python",
   "pygments_lexer": "ipython3",
   "version": "3.7.3"
  }
 },
 "nbformat": 4,
 "nbformat_minor": 2
}
